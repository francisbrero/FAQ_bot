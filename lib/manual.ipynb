{
 "cells": [
  {
   "cell_type": "code",
   "execution_count": 1,
   "metadata": {},
   "outputs": [
    {
     "name": "stdout",
     "output_type": "stream",
     "text": [
      "\u001b[33mWARNING: Skipping /usr/local/lib/python3.11/site-packages/six-1.16.0-py3.11.egg-info due to invalid metadata entry 'name'\u001b[0m\u001b[33m\n",
      "\u001b[0m\u001b[33mWARNING: Skipping /usr/local/lib/python3.11/site-packages/six-1.16.0-py3.11.egg-info due to invalid metadata entry 'name'\u001b[0m\u001b[33m\n",
      "\u001b[0mRequirement already satisfied: scrapy in /usr/local/lib/python3.11/site-packages (2.11.0)\n",
      "Requirement already satisfied: beautifulsoup4 in /usr/local/lib/python3.11/site-packages (4.12.2)\n",
      "Requirement already satisfied: chromadb in /usr/local/lib/python3.11/site-packages (0.4.13)\n",
      "Requirement already satisfied: sentence-transformers in /usr/local/lib/python3.11/site-packages (2.2.2)\n",
      "Requirement already satisfied: ctransformers in /usr/local/lib/python3.11/site-packages (0.2.27)\n",
      "Requirement already satisfied: langchain in /usr/local/lib/python3.11/site-packages (0.0.310)\n",
      "Requirement already satisfied: Twisted<23.8.0,>=18.9.0 in /usr/local/lib/python3.11/site-packages (from scrapy) (22.10.0)\n",
      "Requirement already satisfied: cryptography>=36.0.0 in /usr/local/lib/python3.11/site-packages (from scrapy) (41.0.2)\n",
      "Requirement already satisfied: cssselect>=0.9.1 in /usr/local/lib/python3.11/site-packages (from scrapy) (1.2.0)\n",
      "Requirement already satisfied: itemloaders>=1.0.1 in /usr/local/lib/python3.11/site-packages (from scrapy) (1.1.0)\n",
      "Requirement already satisfied: parsel>=1.5.0 in /usr/local/lib/python3.11/site-packages (from scrapy) (1.8.1)\n",
      "Requirement already satisfied: pyOpenSSL>=21.0.0 in /usr/local/lib/python3.11/site-packages (from scrapy) (23.2.0)\n",
      "Requirement already satisfied: queuelib>=1.4.2 in /usr/local/lib/python3.11/site-packages (from scrapy) (1.6.2)\n",
      "Requirement already satisfied: service-identity>=18.1.0 in /usr/local/lib/python3.11/site-packages (from scrapy) (23.1.0)\n",
      "Requirement already satisfied: w3lib>=1.17.0 in /usr/local/lib/python3.11/site-packages (from scrapy) (2.1.2)\n",
      "Requirement already satisfied: zope.interface>=5.1.0 in /usr/local/lib/python3.11/site-packages (from scrapy) (6.1)\n",
      "Requirement already satisfied: protego>=0.1.15 in /usr/local/lib/python3.11/site-packages (from scrapy) (0.3.0)\n",
      "Requirement already satisfied: itemadapter>=0.1.0 in /usr/local/lib/python3.11/site-packages (from scrapy) (0.8.0)\n",
      "Requirement already satisfied: setuptools in /usr/local/lib/python3.11/site-packages (from scrapy) (67.6.1)\n",
      "Requirement already satisfied: packaging in /Users/francis/Library/Python/3.11/lib/python/site-packages (from scrapy) (23.1)\n",
      "Requirement already satisfied: tldextract in /usr/local/lib/python3.11/site-packages (from scrapy) (3.6.0)\n",
      "Requirement already satisfied: lxml>=4.4.1 in /usr/local/lib/python3.11/site-packages (from scrapy) (4.9.3)\n",
      "Requirement already satisfied: PyDispatcher>=2.0.5 in /usr/local/lib/python3.11/site-packages (from scrapy) (2.0.7)\n",
      "Requirement already satisfied: soupsieve>1.2 in /usr/local/lib/python3.11/site-packages (from beautifulsoup4) (2.4.1)\n",
      "Requirement already satisfied: requests>=2.28 in /usr/local/lib/python3.11/site-packages (from chromadb) (2.31.0)\n",
      "Requirement already satisfied: pydantic>=1.9 in /usr/local/lib/python3.11/site-packages (from chromadb) (1.10.12)\n",
      "Requirement already satisfied: chroma-hnswlib==0.7.3 in /usr/local/lib/python3.11/site-packages (from chromadb) (0.7.3)\n",
      "Requirement already satisfied: fastapi>=0.95.2 in /usr/local/lib/python3.11/site-packages (from chromadb) (0.100.1)\n",
      "Requirement already satisfied: uvicorn[standard]>=0.18.3 in /usr/local/lib/python3.11/site-packages (from chromadb) (0.23.1)\n",
      "Requirement already satisfied: posthog>=2.4.0 in /usr/local/lib/python3.11/site-packages (from chromadb) (3.0.2)\n",
      "Requirement already satisfied: typing-extensions>=4.5.0 in /usr/local/lib/python3.11/site-packages (from chromadb) (4.7.1)\n",
      "Requirement already satisfied: pulsar-client>=3.1.0 in /usr/local/lib/python3.11/site-packages (from chromadb) (3.3.0)\n",
      "Requirement already satisfied: onnxruntime>=1.14.1 in /usr/local/lib/python3.11/site-packages (from chromadb) (1.16.0)\n",
      "Requirement already satisfied: tokenizers>=0.13.2 in /usr/local/lib/python3.11/site-packages (from chromadb) (0.14.1)\n",
      "Requirement already satisfied: pypika>=0.48.9 in /usr/local/lib/python3.11/site-packages (from chromadb) (0.48.9)\n",
      "Requirement already satisfied: tqdm>=4.65.0 in /usr/local/lib/python3.11/site-packages (from chromadb) (4.65.0)\n",
      "Requirement already satisfied: overrides>=7.3.1 in /usr/local/lib/python3.11/site-packages (from chromadb) (7.4.0)\n",
      "Requirement already satisfied: importlib-resources in /usr/local/lib/python3.11/site-packages (from chromadb) (6.1.0)\n",
      "Requirement already satisfied: bcrypt>=4.0.1 in /usr/local/lib/python3.11/site-packages (from chromadb) (4.0.1)\n",
      "Requirement already satisfied: typer>=0.9.0 in /usr/local/lib/python3.11/site-packages (from chromadb) (0.9.0)\n",
      "Requirement already satisfied: numpy>=1.22.5 in /usr/local/lib/python3.11/site-packages (from chromadb) (1.25.1)\n",
      "Requirement already satisfied: transformers<5.0.0,>=4.6.0 in /usr/local/lib/python3.11/site-packages (from sentence-transformers) (4.34.0)\n",
      "Requirement already satisfied: torch>=1.6.0 in /usr/local/lib/python3.11/site-packages (from sentence-transformers) (2.1.0)\n",
      "Requirement already satisfied: torchvision in /usr/local/lib/python3.11/site-packages (from sentence-transformers) (0.16.0)\n",
      "Requirement already satisfied: scikit-learn in /usr/local/lib/python3.11/site-packages (from sentence-transformers) (1.3.1)\n",
      "Requirement already satisfied: scipy in /usr/local/lib/python3.11/site-packages (from sentence-transformers) (1.11.3)\n",
      "Requirement already satisfied: nltk in /usr/local/lib/python3.11/site-packages (from sentence-transformers) (3.8.1)\n",
      "Requirement already satisfied: sentencepiece in /usr/local/lib/python3.11/site-packages (from sentence-transformers) (0.1.99)\n",
      "Requirement already satisfied: huggingface-hub>=0.4.0 in /usr/local/lib/python3.11/site-packages (from sentence-transformers) (0.17.3)\n",
      "Requirement already satisfied: py-cpuinfo<10.0.0,>=9.0.0 in /usr/local/lib/python3.11/site-packages (from ctransformers) (9.0.0)\n",
      "Requirement already satisfied: PyYAML>=5.3 in /usr/local/lib/python3.11/site-packages (from langchain) (6.0)\n",
      "Requirement already satisfied: SQLAlchemy<3,>=1.4 in /usr/local/lib/python3.11/site-packages (from langchain) (2.0.21)\n",
      "Requirement already satisfied: aiohttp<4.0.0,>=3.8.3 in /usr/local/lib/python3.11/site-packages (from langchain) (3.8.5)\n",
      "Requirement already satisfied: anyio<4.0 in /usr/local/lib/python3.11/site-packages (from langchain) (3.7.1)\n",
      "Requirement already satisfied: dataclasses-json<0.7,>=0.5.7 in /usr/local/lib/python3.11/site-packages (from langchain) (0.6.1)\n",
      "Requirement already satisfied: jsonpatch<2.0,>=1.33 in /usr/local/lib/python3.11/site-packages (from langchain) (1.33)\n",
      "Requirement already satisfied: langsmith<0.1.0,>=0.0.40 in /usr/local/lib/python3.11/site-packages (from langchain) (0.0.43)\n",
      "Requirement already satisfied: tenacity<9.0.0,>=8.1.0 in /usr/local/lib/python3.11/site-packages (from langchain) (8.2.3)\n",
      "Requirement already satisfied: attrs>=17.3.0 in /usr/local/lib/python3.11/site-packages (from aiohttp<4.0.0,>=3.8.3->langchain) (23.1.0)\n",
      "Requirement already satisfied: charset-normalizer<4.0,>=2.0 in /usr/local/lib/python3.11/site-packages (from aiohttp<4.0.0,>=3.8.3->langchain) (3.2.0)\n",
      "Requirement already satisfied: multidict<7.0,>=4.5 in /usr/local/lib/python3.11/site-packages (from aiohttp<4.0.0,>=3.8.3->langchain) (6.0.4)\n",
      "Requirement already satisfied: async-timeout<5.0,>=4.0.0a3 in /usr/local/lib/python3.11/site-packages (from aiohttp<4.0.0,>=3.8.3->langchain) (4.0.2)\n",
      "Requirement already satisfied: yarl<2.0,>=1.0 in /usr/local/lib/python3.11/site-packages (from aiohttp<4.0.0,>=3.8.3->langchain) (1.9.2)\n",
      "Requirement already satisfied: frozenlist>=1.1.1 in /usr/local/lib/python3.11/site-packages (from aiohttp<4.0.0,>=3.8.3->langchain) (1.4.0)\n",
      "Requirement already satisfied: aiosignal>=1.1.2 in /usr/local/lib/python3.11/site-packages (from aiohttp<4.0.0,>=3.8.3->langchain) (1.3.1)\n",
      "Requirement already satisfied: idna>=2.8 in /usr/local/lib/python3.11/site-packages (from anyio<4.0->langchain) (3.4)\n",
      "Requirement already satisfied: sniffio>=1.1 in /usr/local/lib/python3.11/site-packages (from anyio<4.0->langchain) (1.3.0)\n",
      "Requirement already satisfied: cffi>=1.12 in /usr/local/lib/python3.11/site-packages (from cryptography>=36.0.0->scrapy) (1.15.1)\n",
      "Requirement already satisfied: marshmallow<4.0.0,>=3.18.0 in /usr/local/lib/python3.11/site-packages (from dataclasses-json<0.7,>=0.5.7->langchain) (3.20.1)\n",
      "Requirement already satisfied: typing-inspect<1,>=0.4.0 in /usr/local/lib/python3.11/site-packages (from dataclasses-json<0.7,>=0.5.7->langchain) (0.9.0)\n",
      "Requirement already satisfied: starlette<0.28.0,>=0.27.0 in /usr/local/lib/python3.11/site-packages (from fastapi>=0.95.2->chromadb) (0.27.0)\n",
      "Requirement already satisfied: filelock in /usr/local/lib/python3.11/site-packages (from huggingface-hub>=0.4.0->sentence-transformers) (3.12.2)\n",
      "Requirement already satisfied: fsspec in /usr/local/lib/python3.11/site-packages (from huggingface-hub>=0.4.0->sentence-transformers) (2023.9.2)\n",
      "Requirement already satisfied: jmespath>=0.9.5 in /usr/local/lib/python3.11/site-packages (from itemloaders>=1.0.1->scrapy) (1.0.1)\n",
      "Requirement already satisfied: jsonpointer>=1.9 in /usr/local/lib/python3.11/site-packages (from jsonpatch<2.0,>=1.33->langchain) (2.4)\n",
      "Requirement already satisfied: coloredlogs in /usr/local/lib/python3.11/site-packages (from onnxruntime>=1.14.1->chromadb) (15.0.1)\n",
      "Requirement already satisfied: flatbuffers in /usr/local/lib/python3.11/site-packages (from onnxruntime>=1.14.1->chromadb) (23.5.26)\n",
      "Requirement already satisfied: protobuf in /usr/local/lib/python3.11/site-packages (from onnxruntime>=1.14.1->chromadb) (4.23.4)\n",
      "Requirement already satisfied: sympy in /usr/local/lib/python3.11/site-packages (from onnxruntime>=1.14.1->chromadb) (1.12)\n",
      "Requirement already satisfied: six>=1.5 in /Users/francis/Library/Python/3.11/lib/python/site-packages (from posthog>=2.4.0->chromadb) (1.16.0)\n",
      "Requirement already satisfied: monotonic>=1.5 in /usr/local/lib/python3.11/site-packages (from posthog>=2.4.0->chromadb) (1.6)\n",
      "Requirement already satisfied: backoff>=1.10.0 in /usr/local/lib/python3.11/site-packages (from posthog>=2.4.0->chromadb) (2.2.1)\n",
      "Requirement already satisfied: python-dateutil>2.1 in /Users/francis/Library/Python/3.11/lib/python/site-packages (from posthog>=2.4.0->chromadb) (2.8.2)\n",
      "Requirement already satisfied: certifi in /usr/local/lib/python3.11/site-packages (from pulsar-client>=3.1.0->chromadb) (2023.7.22)\n",
      "Requirement already satisfied: urllib3<3,>=1.21.1 in /usr/local/lib/python3.11/site-packages (from requests>=2.28->chromadb) (1.26.16)\n",
      "Requirement already satisfied: pyasn1 in /usr/local/lib/python3.11/site-packages (from service-identity>=18.1.0->scrapy) (0.5.0)\n",
      "Requirement already satisfied: pyasn1-modules in /usr/local/lib/python3.11/site-packages (from service-identity>=18.1.0->scrapy) (0.3.0)\n",
      "Requirement already satisfied: greenlet!=0.4.17 in /usr/local/lib/python3.11/site-packages (from SQLAlchemy<3,>=1.4->langchain) (3.0.0)\n",
      "Requirement already satisfied: networkx in /usr/local/lib/python3.11/site-packages (from torch>=1.6.0->sentence-transformers) (3.1)\n",
      "Requirement already satisfied: jinja2 in /usr/local/lib/python3.11/site-packages (from torch>=1.6.0->sentence-transformers) (3.1.2)\n",
      "Requirement already satisfied: regex!=2019.12.17 in /usr/local/lib/python3.11/site-packages (from transformers<5.0.0,>=4.6.0->sentence-transformers) (2023.6.3)\n",
      "Requirement already satisfied: safetensors>=0.3.1 in /usr/local/lib/python3.11/site-packages (from transformers<5.0.0,>=4.6.0->sentence-transformers) (0.4.0)\n",
      "Requirement already satisfied: constantly>=15.1 in /usr/local/lib/python3.11/site-packages (from Twisted<23.8.0,>=18.9.0->scrapy) (15.1.0)\n",
      "Requirement already satisfied: incremental>=21.3.0 in /usr/local/lib/python3.11/site-packages (from Twisted<23.8.0,>=18.9.0->scrapy) (22.10.0)\n",
      "Requirement already satisfied: Automat>=0.8.0 in /usr/local/lib/python3.11/site-packages (from Twisted<23.8.0,>=18.9.0->scrapy) (22.10.0)\n",
      "Requirement already satisfied: hyperlink>=17.1.1 in /usr/local/lib/python3.11/site-packages (from Twisted<23.8.0,>=18.9.0->scrapy) (21.0.0)\n",
      "Requirement already satisfied: click<9.0.0,>=7.1.1 in /usr/local/lib/python3.11/site-packages (from typer>=0.9.0->chromadb) (8.1.6)\n",
      "Requirement already satisfied: h11>=0.8 in /usr/local/lib/python3.11/site-packages (from uvicorn[standard]>=0.18.3->chromadb) (0.14.0)\n",
      "Requirement already satisfied: httptools>=0.5.0 in /usr/local/lib/python3.11/site-packages (from uvicorn[standard]>=0.18.3->chromadb) (0.6.0)\n",
      "Requirement already satisfied: python-dotenv>=0.13 in /usr/local/lib/python3.11/site-packages (from uvicorn[standard]>=0.18.3->chromadb) (1.0.0)\n",
      "Requirement already satisfied: uvloop!=0.15.0,!=0.15.1,>=0.14.0 in /usr/local/lib/python3.11/site-packages (from uvicorn[standard]>=0.18.3->chromadb) (0.17.0)\n",
      "Requirement already satisfied: watchfiles>=0.13 in /usr/local/lib/python3.11/site-packages (from uvicorn[standard]>=0.18.3->chromadb) (0.20.0)\n",
      "Requirement already satisfied: websockets>=10.4 in /usr/local/lib/python3.11/site-packages (from uvicorn[standard]>=0.18.3->chromadb) (11.0.3)\n",
      "Requirement already satisfied: joblib in /usr/local/lib/python3.11/site-packages (from nltk->sentence-transformers) (1.3.2)\n",
      "Requirement already satisfied: threadpoolctl>=2.0.0 in /usr/local/lib/python3.11/site-packages (from scikit-learn->sentence-transformers) (3.2.0)\n",
      "Requirement already satisfied: requests-file>=1.4 in /usr/local/lib/python3.11/site-packages (from tldextract->scrapy) (1.5.1)\n",
      "Requirement already satisfied: pillow!=8.3.*,>=5.3.0 in /usr/local/lib/python3.11/site-packages (from torchvision->sentence-transformers) (10.0.0)\n",
      "Requirement already satisfied: pycparser in /usr/local/lib/python3.11/site-packages (from cffi>=1.12->cryptography>=36.0.0->scrapy) (2.21)\n",
      "Requirement already satisfied: mypy-extensions>=0.3.0 in /usr/local/lib/python3.11/site-packages (from typing-inspect<1,>=0.4.0->dataclasses-json<0.7,>=0.5.7->langchain) (1.0.0)\n",
      "Requirement already satisfied: humanfriendly>=9.1 in /usr/local/lib/python3.11/site-packages (from coloredlogs->onnxruntime>=1.14.1->chromadb) (10.0)\n",
      "Requirement already satisfied: MarkupSafe>=2.0 in /usr/local/lib/python3.11/site-packages (from jinja2->torch>=1.6.0->sentence-transformers) (2.1.3)\n",
      "Requirement already satisfied: mpmath>=0.19 in /usr/local/lib/python3.11/site-packages (from sympy->onnxruntime>=1.14.1->chromadb) (1.3.0)\n",
      "\u001b[33mWARNING: Skipping /usr/local/lib/python3.11/site-packages/six-1.16.0-py3.11.egg-info due to invalid metadata entry 'name'\u001b[0m\u001b[33m\n",
      "\u001b[0m\u001b[33mWARNING: Skipping /usr/local/lib/python3.11/site-packages/six-1.16.0-py3.11.egg-info due to invalid metadata entry 'name'\u001b[0m\u001b[33m\n",
      "\u001b[0m\u001b[33mWARNING: Skipping /usr/local/lib/python3.11/site-packages/six-1.16.0-py3.11.egg-info due to invalid metadata entry 'name'\u001b[0m\u001b[33m\n",
      "\u001b[0m\u001b[33mWARNING: Skipping /usr/local/lib/python3.11/site-packages/six-1.16.0-py3.11.egg-info due to invalid metadata entry 'name'\u001b[0m\u001b[33m\n",
      "\u001b[0mNote: you may need to restart the kernel to use updated packages.\n"
     ]
    }
   ],
   "source": [
    "pip install -U scrapy beautifulsoup4 chromadb sentence-transformers ctransformers langchain"
   ]
  },
  {
   "cell_type": "code",
   "execution_count": 7,
   "metadata": {},
   "outputs": [
    {
     "ename": "RuntimeError",
     "evalue": "Chroma is running in http-only client mode, and can only be run with 'chromadb.api.fastapi.FastAPI' as the chroma_api_impl.             see https://docs.trychroma.com/usage-guide?lang=py#using-the-python-http-only-client for more information.",
     "output_type": "error",
     "traceback": [
      "\u001b[0;31m---------------------------------------------------------------------------\u001b[0m",
      "\u001b[0;31mRuntimeError\u001b[0m                              Traceback (most recent call last)",
      "\u001b[1;32m/Users/francis/Documents/MadKudu/FAQ_bot/lib/manual.ipynb Cell 2\u001b[0m line \u001b[0;36m2\n\u001b[1;32m      <a href='vscode-notebook-cell:/Users/francis/Documents/MadKudu/FAQ_bot/lib/manual.ipynb#W5sZmlsZQ%3D%3D?line=0'>1</a>\u001b[0m \u001b[39mimport\u001b[39;00m \u001b[39mchromadb\u001b[39;00m\n\u001b[0;32m----> <a href='vscode-notebook-cell:/Users/francis/Documents/MadKudu/FAQ_bot/lib/manual.ipynb#W5sZmlsZQ%3D%3D?line=1'>2</a>\u001b[0m api \u001b[39m=\u001b[39m chromadb\u001b[39m.\u001b[39;49mClient()\n\u001b[1;32m      <a href='vscode-notebook-cell:/Users/francis/Documents/MadKudu/FAQ_bot/lib/manual.ipynb#W5sZmlsZQ%3D%3D?line=2'>3</a>\u001b[0m \u001b[39mprint\u001b[39m(api\u001b[39m.\u001b[39mheartbeat())\n",
      "File \u001b[0;32m/usr/local/lib/python3.11/site-packages/chromadb/__init__.py:140\u001b[0m, in \u001b[0;36mClient\u001b[0;34m(settings)\u001b[0m\n\u001b[1;32m    137\u001b[0m \u001b[39mdef\u001b[39;00m \u001b[39mClient\u001b[39m(settings: Settings \u001b[39m=\u001b[39m __settings) \u001b[39m-\u001b[39m\u001b[39m>\u001b[39m API:\n\u001b[1;32m    138\u001b[0m \u001b[39m    \u001b[39m\u001b[39m\"\"\"Return a running chroma.API instance\"\"\"\u001b[39;00m\n\u001b[0;32m--> 140\u001b[0m     system \u001b[39m=\u001b[39m System(settings)\n\u001b[1;32m    142\u001b[0m     telemetry_client \u001b[39m=\u001b[39m system\u001b[39m.\u001b[39minstance(Telemetry)\n\u001b[1;32m    143\u001b[0m     api \u001b[39m=\u001b[39m system\u001b[39m.\u001b[39minstance(API)\n",
      "File \u001b[0;32m/usr/local/lib/python3.11/site-packages/chromadb/config.py:237\u001b[0m, in \u001b[0;36mSystem.__init__\u001b[0;34m(self, settings)\u001b[0m\n\u001b[1;32m    234\u001b[0m \u001b[39mif\u001b[39;00m is_thin_client:\n\u001b[1;32m    235\u001b[0m     \u001b[39m# The thin client is a system with only the API component\u001b[39;00m\n\u001b[1;32m    236\u001b[0m     \u001b[39mif\u001b[39;00m settings[\u001b[39m\"\u001b[39m\u001b[39mchroma_api_impl\u001b[39m\u001b[39m\"\u001b[39m] \u001b[39m!=\u001b[39m \u001b[39m\"\u001b[39m\u001b[39mchromadb.api.fastapi.FastAPI\u001b[39m\u001b[39m\"\u001b[39m:\n\u001b[0;32m--> 237\u001b[0m         \u001b[39mraise\u001b[39;00m \u001b[39mRuntimeError\u001b[39;00m(\n\u001b[1;32m    238\u001b[0m             \u001b[39m\"\u001b[39m\u001b[39mChroma is running in http-only client mode, and can only be run with \u001b[39m\u001b[39m'\u001b[39m\u001b[39mchromadb.api.fastapi.FastAPI\u001b[39m\u001b[39m'\u001b[39m\u001b[39m as the chroma_api_impl. \u001b[39m\u001b[39m\\\u001b[39;00m\n\u001b[1;32m    239\u001b[0m \u001b[39m    see https://docs.trychroma.com/usage-guide?lang=py#using-the-python-http-only-client for more information.\u001b[39m\u001b[39m\"\u001b[39m\n\u001b[1;32m    240\u001b[0m         )\n\u001b[1;32m    241\u001b[0m \u001b[39m# Validate settings don't contain any legacy config values\u001b[39;00m\n\u001b[1;32m    242\u001b[0m \u001b[39mfor\u001b[39;00m key \u001b[39min\u001b[39;00m _legacy_config_keys:\n",
      "\u001b[0;31mRuntimeError\u001b[0m: Chroma is running in http-only client mode, and can only be run with 'chromadb.api.fastapi.FastAPI' as the chroma_api_impl.             see https://docs.trychroma.com/usage-guide?lang=py#using-the-python-http-only-client for more information."
     ]
    }
   ],
   "source": [
    "import chromadb\n",
    "api = chromadb.Client()\n",
    "print(api.heartbeat())"
   ]
  },
  {
   "cell_type": "code",
   "execution_count": 6,
   "metadata": {},
   "outputs": [
    {
     "ename": "RuntimeError",
     "evalue": "Chroma is running in http-only client mode, and can only be run with 'chromadb.api.fastapi.FastAPI' as the chroma_api_impl.             see https://docs.trychroma.com/usage-guide?lang=py#using-the-python-http-only-client for more information.",
     "output_type": "error",
     "traceback": [
      "\u001b[0;31m---------------------------------------------------------------------------\u001b[0m",
      "\u001b[0;31mRuntimeError\u001b[0m                              Traceback (most recent call last)",
      "\u001b[1;32m/Users/francis/Documents/MadKudu/FAQ_bot/lib/manual.ipynb Cell 2\u001b[0m line \u001b[0;36m4\n\u001b[1;32m      <a href='vscode-notebook-cell:/Users/francis/Documents/MadKudu/FAQ_bot/lib/manual.ipynb#W4sZmlsZQ%3D%3D?line=0'>1</a>\u001b[0m \u001b[39mimport\u001b[39;00m \u001b[39mchromadb\u001b[39;00m\n\u001b[1;32m      <a href='vscode-notebook-cell:/Users/francis/Documents/MadKudu/FAQ_bot/lib/manual.ipynb#W4sZmlsZQ%3D%3D?line=1'>2</a>\u001b[0m \u001b[39mfrom\u001b[39;00m \u001b[39mchromadb\u001b[39;00m\u001b[39m.\u001b[39;00m\u001b[39mconfig\u001b[39;00m \u001b[39mimport\u001b[39;00m Settings\n\u001b[0;32m----> <a href='vscode-notebook-cell:/Users/francis/Documents/MadKudu/FAQ_bot/lib/manual.ipynb#W4sZmlsZQ%3D%3D?line=3'>4</a>\u001b[0m client \u001b[39m=\u001b[39m chromadb\u001b[39m.\u001b[39;49mClient(Settings(chroma_db_impl\u001b[39m=\u001b[39;49m\u001b[39m\"\u001b[39;49m\u001b[39mduckdb+parquet\u001b[39;49m\u001b[39m\"\u001b[39;49m,\n\u001b[1;32m      <a href='vscode-notebook-cell:/Users/francis/Documents/MadKudu/FAQ_bot/lib/manual.ipynb#W4sZmlsZQ%3D%3D?line=4'>5</a>\u001b[0m                                     persist_directory\u001b[39m=\u001b[39;49m\u001b[39m\"\u001b[39;49m\u001b[39mdata/kb_vector_db\u001b[39;49m\u001b[39m\"\u001b[39;49m\n\u001b[1;32m      <a href='vscode-notebook-cell:/Users/francis/Documents/MadKudu/FAQ_bot/lib/manual.ipynb#W4sZmlsZQ%3D%3D?line=5'>6</a>\u001b[0m                                 ))\n",
      "File \u001b[0;32m/usr/local/lib/python3.11/site-packages/chromadb/__init__.py:140\u001b[0m, in \u001b[0;36mClient\u001b[0;34m(settings)\u001b[0m\n\u001b[1;32m    137\u001b[0m \u001b[39mdef\u001b[39;00m \u001b[39mClient\u001b[39m(settings: Settings \u001b[39m=\u001b[39m __settings) \u001b[39m-\u001b[39m\u001b[39m>\u001b[39m API:\n\u001b[1;32m    138\u001b[0m \u001b[39m    \u001b[39m\u001b[39m\"\"\"Return a running chroma.API instance\"\"\"\u001b[39;00m\n\u001b[0;32m--> 140\u001b[0m     system \u001b[39m=\u001b[39m System(settings)\n\u001b[1;32m    142\u001b[0m     telemetry_client \u001b[39m=\u001b[39m system\u001b[39m.\u001b[39minstance(Telemetry)\n\u001b[1;32m    143\u001b[0m     api \u001b[39m=\u001b[39m system\u001b[39m.\u001b[39minstance(API)\n",
      "File \u001b[0;32m/usr/local/lib/python3.11/site-packages/chromadb/config.py:237\u001b[0m, in \u001b[0;36mSystem.__init__\u001b[0;34m(self, settings)\u001b[0m\n\u001b[1;32m    234\u001b[0m \u001b[39mif\u001b[39;00m is_thin_client:\n\u001b[1;32m    235\u001b[0m     \u001b[39m# The thin client is a system with only the API component\u001b[39;00m\n\u001b[1;32m    236\u001b[0m     \u001b[39mif\u001b[39;00m settings[\u001b[39m\"\u001b[39m\u001b[39mchroma_api_impl\u001b[39m\u001b[39m\"\u001b[39m] \u001b[39m!=\u001b[39m \u001b[39m\"\u001b[39m\u001b[39mchromadb.api.fastapi.FastAPI\u001b[39m\u001b[39m\"\u001b[39m:\n\u001b[0;32m--> 237\u001b[0m         \u001b[39mraise\u001b[39;00m \u001b[39mRuntimeError\u001b[39;00m(\n\u001b[1;32m    238\u001b[0m             \u001b[39m\"\u001b[39m\u001b[39mChroma is running in http-only client mode, and can only be run with \u001b[39m\u001b[39m'\u001b[39m\u001b[39mchromadb.api.fastapi.FastAPI\u001b[39m\u001b[39m'\u001b[39m\u001b[39m as the chroma_api_impl. \u001b[39m\u001b[39m\\\u001b[39;00m\n\u001b[1;32m    239\u001b[0m \u001b[39m    see https://docs.trychroma.com/usage-guide?lang=py#using-the-python-http-only-client for more information.\u001b[39m\u001b[39m\"\u001b[39m\n\u001b[1;32m    240\u001b[0m         )\n\u001b[1;32m    241\u001b[0m \u001b[39m# Validate settings don't contain any legacy config values\u001b[39;00m\n\u001b[1;32m    242\u001b[0m \u001b[39mfor\u001b[39;00m key \u001b[39min\u001b[39;00m _legacy_config_keys:\n",
      "\u001b[0;31mRuntimeError\u001b[0m: Chroma is running in http-only client mode, and can only be run with 'chromadb.api.fastapi.FastAPI' as the chroma_api_impl.             see https://docs.trychroma.com/usage-guide?lang=py#using-the-python-http-only-client for more information."
     ]
    }
   ],
   "source": [
    "import chromadb\n",
    "from chromadb.config import Settings\n",
    "\n",
    "client = chromadb.Client(Settings(chroma_db_impl=\"duckdb+parquet\",\n",
    "                                    persist_directory=\"data/kb_vector_db\"\n",
    "                                ))\n"
   ]
  },
  {
   "cell_type": "code",
   "execution_count": 3,
   "metadata": {},
   "outputs": [
    {
     "name": "stdout",
     "output_type": "stream",
     "text": [
      "Error occurred while fetching the URL: 403 Client Error: Forbidden for url: https://www.g2.com/products/madkudu/reviews\n",
      "Error occurred while fetching the URL: 403 Client Error: Forbidden for url: https://www.g2.com/products/madkudu/reviews\n",
      "Error occurred while fetching the URL: 403 Client Error: Forbidden for url: https://support.madkudu.com/hc/en-us\n",
      "Error occurred while fetching the URL: 403 Client Error: Forbidden for url: https://support.madkudu.com/hc/en-us\n"
     ]
    },
    {
     "ename": "RuntimeError",
     "evalue": "Chroma is running in http-only client mode, and can only be run with 'chromadb.api.fastapi.FastAPI' as the chroma_api_impl.             see https://docs.trychroma.com/usage-guide?lang=py#using-the-python-http-only-client for more information.",
     "output_type": "error",
     "traceback": [
      "\u001b[0;31m---------------------------------------------------------------------------\u001b[0m",
      "\u001b[0;31mRuntimeError\u001b[0m                              Traceback (most recent call last)",
      "\u001b[1;32m/Users/francis/Documents/MadKudu/FAQ_bot/lib/manual.ipynb Cell 2\u001b[0m line \u001b[0;36m6\n\u001b[1;32m      <a href='vscode-notebook-cell:/Users/francis/Documents/MadKudu/FAQ_bot/lib/manual.ipynb#W1sZmlsZQ%3D%3D?line=1'>2</a>\u001b[0m \u001b[39mimport\u001b[39;00m \u001b[39mllm\u001b[39;00m\n\u001b[1;32m      <a href='vscode-notebook-cell:/Users/francis/Documents/MadKudu/FAQ_bot/lib/manual.ipynb#W1sZmlsZQ%3D%3D?line=2'>3</a>\u001b[0m \u001b[39mimport\u001b[39;00m \u001b[39mquestion_answer\u001b[39;00m\n\u001b[0;32m----> <a href='vscode-notebook-cell:/Users/francis/Documents/MadKudu/FAQ_bot/lib/manual.ipynb#W1sZmlsZQ%3D%3D?line=5'>6</a>\u001b[0m vector_db \u001b[39m=\u001b[39m data_loader\u001b[39m.\u001b[39;49mget_vector_db()\n\u001b[1;32m      <a href='vscode-notebook-cell:/Users/francis/Documents/MadKudu/FAQ_bot/lib/manual.ipynb#W1sZmlsZQ%3D%3D?line=6'>7</a>\u001b[0m chain \u001b[39m=\u001b[39m llm\u001b[39m.\u001b[39mget_qa_chain()\n",
      "File \u001b[0;32m~/Documents/MadKudu/FAQ_bot/lib/data_loader.py:86\u001b[0m, in \u001b[0;36mget_vector_db\u001b[0;34m()\u001b[0m\n\u001b[1;32m     84\u001b[0m embeddings \u001b[39m=\u001b[39m HuggingFaceEmbeddings()\n\u001b[1;32m     85\u001b[0m \u001b[39mif\u001b[39;00m \u001b[39mnot\u001b[39;00m os\u001b[39m.\u001b[39mpath\u001b[39m.\u001b[39mexists(VECTOR_DB_FOLDER):\n\u001b[0;32m---> 86\u001b[0m     \u001b[39mreturn\u001b[39;00m build_vector_db(embeddings)\n\u001b[1;32m     87\u001b[0m \u001b[39melse\u001b[39;00m:\n\u001b[1;32m     88\u001b[0m     \u001b[39mreturn\u001b[39;00m Chroma(persist_directory\u001b[39m=\u001b[39mVECTOR_DB_FOLDER, embedding_function\u001b[39m=\u001b[39membeddings)\n",
      "File \u001b[0;32m~/Documents/MadKudu/FAQ_bot/lib/data_loader.py:66\u001b[0m, in \u001b[0;36mbuild_vector_db\u001b[0;34m(embeddings)\u001b[0m\n\u001b[1;32m     63\u001b[0m         f\u001b[39m.\u001b[39mwrite(\u001b[39mf\u001b[39m\u001b[39m\"\u001b[39m\u001b[39mExtracted \u001b[39m\u001b[39m{\u001b[39;00m\u001b[39mlen\u001b[39m(docs)\u001b[39m}\u001b[39;00m\u001b[39m documents from \u001b[39m\u001b[39m{\u001b[39;00murl\u001b[39m}\u001b[39;00m\u001b[39m\\n\u001b[39;00m\u001b[39m\"\u001b[39m)\n\u001b[1;32m     64\u001b[0m     all_docs\u001b[39m.\u001b[39mextend(docs)\n\u001b[0;32m---> 66\u001b[0m vector_db \u001b[39m=\u001b[39m Chroma\u001b[39m.\u001b[39;49mfrom_documents(\n\u001b[1;32m     67\u001b[0m     documents\u001b[39m=\u001b[39;49mall_docs,\n\u001b[1;32m     68\u001b[0m     embedding\u001b[39m=\u001b[39;49membeddings,\n\u001b[1;32m     69\u001b[0m     persist_directory\u001b[39m=\u001b[39;49mVECTOR_DB_FOLDER,\n\u001b[1;32m     70\u001b[0m     collection_metadata\u001b[39m=\u001b[39;49m{\u001b[39m\"\u001b[39;49m\u001b[39mhnsw:space\u001b[39;49m\u001b[39m\"\u001b[39;49m: \u001b[39m\"\u001b[39;49m\u001b[39mcosine\u001b[39;49m\u001b[39m\"\u001b[39;49m},\n\u001b[1;32m     71\u001b[0m )\n\u001b[1;32m     72\u001b[0m vector_db\u001b[39m.\u001b[39mpersist()\n\u001b[1;32m     74\u001b[0m \u001b[39mreturn\u001b[39;00m vector_db\n",
      "File \u001b[0;32m/usr/local/lib/python3.11/site-packages/langchain/vectorstores/chroma.py:646\u001b[0m, in \u001b[0;36mChroma.from_documents\u001b[0;34m(cls, documents, embedding, ids, collection_name, persist_directory, client_settings, client, collection_metadata, **kwargs)\u001b[0m\n\u001b[1;32m    644\u001b[0m texts \u001b[39m=\u001b[39m [doc\u001b[39m.\u001b[39mpage_content \u001b[39mfor\u001b[39;00m doc \u001b[39min\u001b[39;00m documents]\n\u001b[1;32m    645\u001b[0m metadatas \u001b[39m=\u001b[39m [doc\u001b[39m.\u001b[39mmetadata \u001b[39mfor\u001b[39;00m doc \u001b[39min\u001b[39;00m documents]\n\u001b[0;32m--> 646\u001b[0m \u001b[39mreturn\u001b[39;00m \u001b[39mcls\u001b[39;49m\u001b[39m.\u001b[39;49mfrom_texts(\n\u001b[1;32m    647\u001b[0m     texts\u001b[39m=\u001b[39;49mtexts,\n\u001b[1;32m    648\u001b[0m     embedding\u001b[39m=\u001b[39;49membedding,\n\u001b[1;32m    649\u001b[0m     metadatas\u001b[39m=\u001b[39;49mmetadatas,\n\u001b[1;32m    650\u001b[0m     ids\u001b[39m=\u001b[39;49mids,\n\u001b[1;32m    651\u001b[0m     collection_name\u001b[39m=\u001b[39;49mcollection_name,\n\u001b[1;32m    652\u001b[0m     persist_directory\u001b[39m=\u001b[39;49mpersist_directory,\n\u001b[1;32m    653\u001b[0m     client_settings\u001b[39m=\u001b[39;49mclient_settings,\n\u001b[1;32m    654\u001b[0m     client\u001b[39m=\u001b[39;49mclient,\n\u001b[1;32m    655\u001b[0m     collection_metadata\u001b[39m=\u001b[39;49mcollection_metadata,\n\u001b[1;32m    656\u001b[0m     \u001b[39m*\u001b[39;49m\u001b[39m*\u001b[39;49mkwargs,\n\u001b[1;32m    657\u001b[0m )\n",
      "File \u001b[0;32m/usr/local/lib/python3.11/site-packages/langchain/vectorstores/chroma.py:601\u001b[0m, in \u001b[0;36mChroma.from_texts\u001b[0;34m(cls, texts, embedding, metadatas, ids, collection_name, persist_directory, client_settings, client, collection_metadata, **kwargs)\u001b[0m\n\u001b[1;32m    568\u001b[0m \u001b[39m@classmethod\u001b[39m\n\u001b[1;32m    569\u001b[0m \u001b[39mdef\u001b[39;00m \u001b[39mfrom_texts\u001b[39m(\n\u001b[1;32m    570\u001b[0m     \u001b[39mcls\u001b[39m: Type[Chroma],\n\u001b[0;32m   (...)\u001b[0m\n\u001b[1;32m    580\u001b[0m     \u001b[39m*\u001b[39m\u001b[39m*\u001b[39mkwargs: Any,\n\u001b[1;32m    581\u001b[0m ) \u001b[39m-\u001b[39m\u001b[39m>\u001b[39m Chroma:\n\u001b[1;32m    582\u001b[0m \u001b[39m    \u001b[39m\u001b[39m\"\"\"Create a Chroma vectorstore from a raw documents.\u001b[39;00m\n\u001b[1;32m    583\u001b[0m \n\u001b[1;32m    584\u001b[0m \u001b[39m    If a persist_directory is specified, the collection will be persisted there.\u001b[39;00m\n\u001b[0;32m   (...)\u001b[0m\n\u001b[1;32m    599\u001b[0m \u001b[39m        Chroma: Chroma vectorstore.\u001b[39;00m\n\u001b[1;32m    600\u001b[0m \u001b[39m    \"\"\"\u001b[39;00m\n\u001b[0;32m--> 601\u001b[0m     chroma_collection \u001b[39m=\u001b[39m \u001b[39mcls\u001b[39;49m(\n\u001b[1;32m    602\u001b[0m         collection_name\u001b[39m=\u001b[39;49mcollection_name,\n\u001b[1;32m    603\u001b[0m         embedding_function\u001b[39m=\u001b[39;49membedding,\n\u001b[1;32m    604\u001b[0m         persist_directory\u001b[39m=\u001b[39;49mpersist_directory,\n\u001b[1;32m    605\u001b[0m         client_settings\u001b[39m=\u001b[39;49mclient_settings,\n\u001b[1;32m    606\u001b[0m         client\u001b[39m=\u001b[39;49mclient,\n\u001b[1;32m    607\u001b[0m         collection_metadata\u001b[39m=\u001b[39;49mcollection_metadata,\n\u001b[1;32m    608\u001b[0m         \u001b[39m*\u001b[39;49m\u001b[39m*\u001b[39;49mkwargs,\n\u001b[1;32m    609\u001b[0m     )\n\u001b[1;32m    610\u001b[0m     chroma_collection\u001b[39m.\u001b[39madd_texts(texts\u001b[39m=\u001b[39mtexts, metadatas\u001b[39m=\u001b[39mmetadatas, ids\u001b[39m=\u001b[39mids)\n\u001b[1;32m    611\u001b[0m     \u001b[39mreturn\u001b[39;00m chroma_collection\n",
      "File \u001b[0;32m/usr/local/lib/python3.11/site-packages/langchain/vectorstores/chroma.py:119\u001b[0m, in \u001b[0;36mChroma.__init__\u001b[0;34m(self, collection_name, embedding_function, persist_directory, client_settings, collection_metadata, client, relevance_score_fn)\u001b[0m\n\u001b[1;32m    117\u001b[0m         _client_settings \u001b[39m=\u001b[39m chromadb\u001b[39m.\u001b[39mconfig\u001b[39m.\u001b[39mSettings()\n\u001b[1;32m    118\u001b[0m     \u001b[39mself\u001b[39m\u001b[39m.\u001b[39m_client_settings \u001b[39m=\u001b[39m _client_settings\n\u001b[0;32m--> 119\u001b[0m     \u001b[39mself\u001b[39m\u001b[39m.\u001b[39m_client \u001b[39m=\u001b[39m chromadb\u001b[39m.\u001b[39;49mClient(_client_settings)\n\u001b[1;32m    120\u001b[0m     \u001b[39mself\u001b[39m\u001b[39m.\u001b[39m_persist_directory \u001b[39m=\u001b[39m (\n\u001b[1;32m    121\u001b[0m         _client_settings\u001b[39m.\u001b[39mpersist_directory \u001b[39mor\u001b[39;00m persist_directory\n\u001b[1;32m    122\u001b[0m     )\n\u001b[1;32m    124\u001b[0m \u001b[39mself\u001b[39m\u001b[39m.\u001b[39m_embedding_function \u001b[39m=\u001b[39m embedding_function\n",
      "File \u001b[0;32m/usr/local/lib/python3.11/site-packages/chromadb/__init__.py:140\u001b[0m, in \u001b[0;36mClient\u001b[0;34m(settings)\u001b[0m\n\u001b[1;32m    137\u001b[0m \u001b[39mdef\u001b[39;00m \u001b[39mClient\u001b[39m(settings: Settings \u001b[39m=\u001b[39m __settings) \u001b[39m-\u001b[39m\u001b[39m>\u001b[39m API:\n\u001b[1;32m    138\u001b[0m \u001b[39m    \u001b[39m\u001b[39m\"\"\"Return a running chroma.API instance\"\"\"\u001b[39;00m\n\u001b[0;32m--> 140\u001b[0m     system \u001b[39m=\u001b[39m System(settings)\n\u001b[1;32m    142\u001b[0m     telemetry_client \u001b[39m=\u001b[39m system\u001b[39m.\u001b[39minstance(Telemetry)\n\u001b[1;32m    143\u001b[0m     api \u001b[39m=\u001b[39m system\u001b[39m.\u001b[39minstance(API)\n",
      "File \u001b[0;32m/usr/local/lib/python3.11/site-packages/chromadb/config.py:237\u001b[0m, in \u001b[0;36mSystem.__init__\u001b[0;34m(self, settings)\u001b[0m\n\u001b[1;32m    234\u001b[0m \u001b[39mif\u001b[39;00m is_thin_client:\n\u001b[1;32m    235\u001b[0m     \u001b[39m# The thin client is a system with only the API component\u001b[39;00m\n\u001b[1;32m    236\u001b[0m     \u001b[39mif\u001b[39;00m settings[\u001b[39m\"\u001b[39m\u001b[39mchroma_api_impl\u001b[39m\u001b[39m\"\u001b[39m] \u001b[39m!=\u001b[39m \u001b[39m\"\u001b[39m\u001b[39mchromadb.api.fastapi.FastAPI\u001b[39m\u001b[39m\"\u001b[39m:\n\u001b[0;32m--> 237\u001b[0m         \u001b[39mraise\u001b[39;00m \u001b[39mRuntimeError\u001b[39;00m(\n\u001b[1;32m    238\u001b[0m             \u001b[39m\"\u001b[39m\u001b[39mChroma is running in http-only client mode, and can only be run with \u001b[39m\u001b[39m'\u001b[39m\u001b[39mchromadb.api.fastapi.FastAPI\u001b[39m\u001b[39m'\u001b[39m\u001b[39m as the chroma_api_impl. \u001b[39m\u001b[39m\\\u001b[39;00m\n\u001b[1;32m    239\u001b[0m \u001b[39m    see https://docs.trychroma.com/usage-guide?lang=py#using-the-python-http-only-client for more information.\u001b[39m\u001b[39m\"\u001b[39m\n\u001b[1;32m    240\u001b[0m         )\n\u001b[1;32m    241\u001b[0m \u001b[39m# Validate settings don't contain any legacy config values\u001b[39;00m\n\u001b[1;32m    242\u001b[0m \u001b[39mfor\u001b[39;00m key \u001b[39min\u001b[39;00m _legacy_config_keys:\n",
      "\u001b[0;31mRuntimeError\u001b[0m: Chroma is running in http-only client mode, and can only be run with 'chromadb.api.fastapi.FastAPI' as the chroma_api_impl.             see https://docs.trychroma.com/usage-guide?lang=py#using-the-python-http-only-client for more information."
     ]
    }
   ],
   "source": [
    "import data_loader\n",
    "import llm\n",
    "import question_answer\n",
    "\n",
    "\n",
    "vector_db = data_loader.get_vector_db()\n",
    "chain = llm.get_qa_chain()"
   ]
  },
  {
   "cell_type": "code",
   "execution_count": null,
   "metadata": {},
   "outputs": [],
   "source": [
    "\n",
    "\n"
   ]
  },
  {
   "cell_type": "code",
   "execution_count": null,
   "metadata": {},
   "outputs": [],
   "source": []
  }
 ],
 "metadata": {
  "kernelspec": {
   "display_name": "Python 3",
   "language": "python",
   "name": "python3"
  },
  "language_info": {
   "codemirror_mode": {
    "name": "ipython",
    "version": 3
   },
   "file_extension": ".py",
   "mimetype": "text/x-python",
   "name": "python",
   "nbconvert_exporter": "python",
   "pygments_lexer": "ipython3",
   "version": "3.11.4"
  },
  "orig_nbformat": 4
 },
 "nbformat": 4,
 "nbformat_minor": 2
}
